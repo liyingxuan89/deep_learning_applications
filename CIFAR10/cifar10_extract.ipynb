{
 "cells": [
  {
   "cell_type": "code",
   "execution_count": 1,
   "metadata": {
    "collapsed": false
   },
   "outputs": [
    {
     "name": "stderr",
     "output_type": "stream",
     "text": [
      "/home/lyn1x/software/anaconda/lib/python2.7/site-packages/h5py/__init__.py:34: FutureWarning: Conversion of the second argument of issubdtype from `float` to `np.floating` is deprecated. In future, it will be treated as `np.float64 == np.dtype(float).type`.\n",
      "  from ._conv import register_converters as _register_converters\n"
     ]
    }
   ],
   "source": [
    "import cifar10_input\n",
    "import tensorflow as tf\n",
    "import os \n",
    "import scipy.misc"
   ]
  },
  {
   "cell_type": "code",
   "execution_count": 2,
   "metadata": {
    "collapsed": true
   },
   "outputs": [],
   "source": [
    "def inputs_origin(data_dir):\n",
    "    # 输入的文件列表\n",
    "    filenames = [os.path.join(data_dir,\"data_batch_%d.bin\" % i) for i in range(1,6)]\n",
    "    # 判断文件存在性\n",
    "    for f in filenames:\n",
    "        if not tf.gfile.Exists(f):\n",
    "            raise ValueError(\"faile to find the file: \" + f)\n",
    "    \n",
    "    # 载入文件队列\n",
    "    filename_queue = tf.train.string_input_producer(filenames, shuffle=True)\n",
    "    \n",
    "    # 读取器, 读入二进制文件到图像tensor\n",
    "    read_input = cifar10_input.read_cifar10(filename_queue)\n",
    "    \n",
    "    reshape_image = tf.cast(read_input.uint8image, tf.float32)\n",
    "    # 通过sess.run(reshape_image)可以取出一张图片\n",
    "    return reshape_image"
   ]
  },
  {
   "cell_type": "code",
   "execution_count": 5,
   "metadata": {
    "collapsed": false
   },
   "outputs": [
    {
     "name": "stdout",
     "output_type": "stream",
     "text": [
      "ERROR:tensorflow:Exception in QueueRunner: Enqueue operation was cancelled\n",
      "\t [[Node: input_producer_1/input_producer_1_EnqueueMany = QueueEnqueueManyV2[Tcomponents=[DT_STRING], timeout_ms=-1, _device=\"/job:localhost/replica:0/task:0/device:CPU:0\"](input_producer_1, input_producer_1/RandomShuffle)]]\n"
     ]
    },
    {
     "name": "stderr",
     "output_type": "stream",
     "text": [
      "ERROR:tensorflow:Exception in QueueRunner: Enqueue operation was cancelled\n",
      "\t [[Node: input_producer_1/input_producer_1_EnqueueMany = QueueEnqueueManyV2[Tcomponents=[DT_STRING], timeout_ms=-1, _device=\"/job:localhost/replica:0/task:0/device:CPU:0\"](input_producer_1, input_producer_1/RandomShuffle)]]\n",
      "ERROR:tensorflow:Exception in QueueRunner: Enqueue operation was cancelled\n",
      "\t [[Node: input_producer/input_producer_EnqueueMany = QueueEnqueueManyV2[Tcomponents=[DT_STRING], timeout_ms=-1, _device=\"/job:localhost/replica:0/task:0/device:CPU:0\"](input_producer, input_producer/RandomShuffle)]]\n",
      "Exception in thread QueueRunnerThread-input_producer_1-input_producer_1/input_producer_1_EnqueueMany:\n",
      "Traceback (most recent call last):\n",
      "  File \"/home/lyn1x/software/anaconda/lib/python2.7/threading.py\", line 801, in __bootstrap_inner\n",
      "    self.run()\n",
      "  File \"/home/lyn1x/software/anaconda/lib/python2.7/threading.py\", line 754, in run\n",
      "    self.__target(*self.__args, **self.__kwargs)\n",
      "  File \"/home/lyn1x/software/anaconda/lib/python2.7/site-packages/tensorflow/python/training/queue_runner_impl.py\", line 238, in _run\n",
      "    enqueue_callable()\n",
      "  File \"/home/lyn1x/software/anaconda/lib/python2.7/site-packages/tensorflow/python/client/session.py\", line 1231, in _single_operation_run\n",
      "    target_list_as_strings, status, None)\n",
      "  File \"/home/lyn1x/software/anaconda/lib/python2.7/site-packages/tensorflow/python/framework/errors_impl.py\", line 473, in __exit__\n",
      "    c_api.TF_GetCode(self.status.status))\n",
      "CancelledError: Enqueue operation was cancelled\n",
      "\t [[Node: input_producer_1/input_producer_1_EnqueueMany = QueueEnqueueManyV2[Tcomponents=[DT_STRING], timeout_ms=-1, _device=\"/job:localhost/replica:0/task:0/device:CPU:0\"](input_producer_1, input_producer_1/RandomShuffle)]]\n",
      "\n"
     ]
    },
    {
     "name": "stdout",
     "output_type": "stream",
     "text": [
      "ERROR:tensorflow:Exception in QueueRunner: Enqueue operation was cancelled\n",
      "\t [[Node: input_producer/input_producer_EnqueueMany = QueueEnqueueManyV2[Tcomponents=[DT_STRING], timeout_ms=-1, _device=\"/job:localhost/replica:0/task:0/device:CPU:0\"](input_producer, input_producer/RandomShuffle)]]\n"
     ]
    },
    {
     "name": "stderr",
     "output_type": "stream",
     "text": [
      "Exception in thread QueueRunnerThread-input_producer-input_producer/input_producer_EnqueueMany:\n",
      "Traceback (most recent call last):\n",
      "  File \"/home/lyn1x/software/anaconda/lib/python2.7/threading.py\", line 801, in __bootstrap_inner\n",
      "    self.run()\n",
      "  File \"/home/lyn1x/software/anaconda/lib/python2.7/threading.py\", line 754, in run\n",
      "    self.__target(*self.__args, **self.__kwargs)\n",
      "  File \"/home/lyn1x/software/anaconda/lib/python2.7/site-packages/tensorflow/python/training/queue_runner_impl.py\", line 238, in _run\n",
      "    enqueue_callable()\n",
      "  File \"/home/lyn1x/software/anaconda/lib/python2.7/site-packages/tensorflow/python/client/session.py\", line 1231, in _single_operation_run\n",
      "    target_list_as_strings, status, None)\n",
      "  File \"/home/lyn1x/software/anaconda/lib/python2.7/site-packages/tensorflow/python/framework/errors_impl.py\", line 473, in __exit__\n",
      "    c_api.TF_GetCode(self.status.status))\n",
      "CancelledError: Enqueue operation was cancelled\n",
      "\t [[Node: input_producer/input_producer_EnqueueMany = QueueEnqueueManyV2[Tcomponents=[DT_STRING], timeout_ms=-1, _device=\"/job:localhost/replica:0/task:0/device:CPU:0\"](input_producer, input_producer/RandomShuffle)]]\n",
      "\n"
     ]
    }
   ],
   "source": [
    "with tf.Session() as sess:\n",
    "    reshape_image = inputs_origin(\"cifar10_data/cifar-10-batches-bin\")\n",
    "    # 文件流运行器\n",
    "    threads = tf.train.start_queue_runners(sess=sess)\n",
    "    # 初始化环境变量\n",
    "    sess.run(tf.global_variables_initializer())\n",
    "    if not os.path.exists(\"cifar10_data/raw/\"):\n",
    "        os.makedirs(\"cifar10_data/raw/\")\n",
    "    for i in range(30):\n",
    "        image_array = sess.run(reshape_image)\n",
    "        #保存\n",
    "        scipy.misc.toimage(image_array).save(\"cifar10_data/raw/%d.jpg\" % i)"
   ]
  },
  {
   "cell_type": "code",
   "execution_count": null,
   "metadata": {
    "collapsed": true
   },
   "outputs": [],
   "source": []
  }
 ],
 "metadata": {
  "kernelspec": {
   "display_name": "Python 2",
   "language": "python",
   "name": "python2"
  },
  "language_info": {
   "codemirror_mode": {
    "name": "ipython",
    "version": 2
   },
   "file_extension": ".py",
   "mimetype": "text/x-python",
   "name": "python",
   "nbconvert_exporter": "python",
   "pygments_lexer": "ipython2",
   "version": "2.7.13"
  }
 },
 "nbformat": 4,
 "nbformat_minor": 0
}

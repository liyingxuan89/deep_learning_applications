{
 "cells": [
  {
   "cell_type": "code",
   "execution_count": 1,
   "metadata": {
    "collapsed": true
   },
   "outputs": [],
   "source": [
    "import os\n",
    "if not os.path.exists(\"./read\"):\n",
    "    os.mkdir(\"./read/\")"
   ]
  },
  {
   "cell_type": "code",
   "execution_count": 2,
   "metadata": {
    "collapsed": true
   },
   "outputs": [],
   "source": [
    "import tensorflow as tf"
   ]
  },
  {
   "cell_type": "code",
   "execution_count": 3,
   "metadata": {
    "collapsed": false
   },
   "outputs": [
    {
     "name": "stdout",
     "output_type": "stream",
     "text": [
      "1.3.0\n"
     ]
    }
   ],
   "source": [
    "print(tf.__version__)"
   ]
  },
  {
   "cell_type": "code",
   "execution_count": 6,
   "metadata": {
    "collapsed": false
   },
   "outputs": [],
   "source": [
    "with tf.Session() as sess:\n",
    "    # 定义输入流队列\n",
    "    filename = [\"xyjy.jpg\", \"hjr.jpg\",\"gal.jpg\"]\n",
    "    num_epochs = 3\n",
    "    filename_queue = tf.train.string_input_producer(filename, shuffle=True, num_epochs=num_epochs)\n",
    "    # 定义读入器\n",
    "    reader = tf.WholeFileReader()\n",
    "    key, value = reader.read(filename_queue)\n",
    "    # 初始化参数\n",
    "    sess.run(tf.local_variables_initializer())\n",
    "    threads = tf.train.start_queue_runners()\n",
    "    i = 0\n",
    "    while i < len(filename)*num_epochs:\n",
    "        i += 1\n",
    "        image = sess.run(value)\n",
    "        with open(\"read/{}_{}\".format(\"test\",i)+\".jpg\", \"wb\") as f:\n",
    "            f.write(image)\n",
    "        "
   ]
  },
  {
   "cell_type": "code",
   "execution_count": null,
   "metadata": {
    "collapsed": true
   },
   "outputs": [],
   "source": []
  }
 ],
 "metadata": {
  "kernelspec": {
   "display_name": "Python 2",
   "language": "python",
   "name": "python2"
  },
  "language_info": {
   "codemirror_mode": {
    "name": "ipython",
    "version": 2
   },
   "file_extension": ".py",
   "mimetype": "text/x-python",
   "name": "python",
   "nbconvert_exporter": "python",
   "pygments_lexer": "ipython2",
   "version": "2.7.10rc1"
  }
 },
 "nbformat": 4,
 "nbformat_minor": 1
}

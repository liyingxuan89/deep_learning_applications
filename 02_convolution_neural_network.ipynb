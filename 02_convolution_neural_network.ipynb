{
 "cells": [
  {
   "cell_type": "code",
   "execution_count": 5,
   "metadata": {
    "collapsed": true
   },
   "outputs": [],
   "source": [
    "#load necessary modules\n",
    "import numpy as np\n",
    "import tensorflow as tf\n",
    "import matplotlib.pyplot as plt\n",
    "import math\n",
    "from sklearn.metrics import confusion_matrix\n",
    "from tensorflow.examples.tutorials.mnist import input_data"
   ]
  },
  {
   "cell_type": "code",
   "execution_count": 2,
   "metadata": {
    "collapsed": false
   },
   "outputs": [
    {
     "data": {
      "text/plain": [
       "'1.3.0'"
      ]
     },
     "execution_count": 2,
     "metadata": {},
     "output_type": "execute_result"
    }
   ],
   "source": [
    "tf.__version__"
   ]
  },
  {
   "cell_type": "code",
   "execution_count": 6,
   "metadata": {
    "collapsed": false
   },
   "outputs": [
    {
     "name": "stdout",
     "output_type": "stream",
     "text": [
      "Extracting ./mnist_data/train-images-idx3-ubyte.gz\n",
      "Extracting ./mnist_data/train-labels-idx1-ubyte.gz\n",
      "Extracting ./mnist_data/t10k-images-idx3-ubyte.gz\n",
      "Extracting ./mnist_data/t10k-labels-idx1-ubyte.gz\n",
      "55000\n"
     ]
    }
   ],
   "source": [
    "#load dataset\n",
    "mnist = input_data.read_data_sets(\"./mnist_data/\")\n",
    "print(mnist.train.num_examples)"
   ]
  },
  {
   "cell_type": "code",
   "execution_count": 7,
   "metadata": {
    "collapsed": true
   },
   "outputs": [],
   "source": [
    "train_image = mnist.train.images\n",
    "train_label = mnist.train.labels\n",
    "test_image = mnist.test.images\n",
    "test_label = mnist.test.labels"
   ]
  },
  {
   "cell_type": "code",
   "execution_count": 20,
   "metadata": {
    "collapsed": true
   },
   "outputs": [],
   "source": [
    "#plot function\n",
    "def plot_images(input_images, image_labels, image_pre_labels=None):\n",
    "    assert len(input_images) == 9\n",
    "    \n",
    "    fig, axes = plt.subplots(3,3)\n",
    "    #fig.subplots_adjust(hspace=.3, wspace=.3)\n",
    "    \n",
    "    for i, ax in enumerate(axes.flat):\n",
    "        \n",
    "        ax.imshow(input_images[i].reshape((28,28)), cmap=\"binary\")\n",
    "        if image_pre_labels == None:\n",
    "            xlabel = \"true:{0}\".format(image_labels[i])\n",
    "        else:\n",
    "            xlabel = \"true:{0}, predict:{1}\".format(iamge_labels[i], image_pre_labels[i])\n",
    "        ax.set_xlabel(xlabel)\n",
    "        \n",
    "        ax.set_xticks([])\n",
    "        ax.set_yticks([])\n",
    "        \n",
    "    plt.show()"
   ]
  },
  {
   "cell_type": "code",
   "execution_count": 21,
   "metadata": {
    "collapsed": false
   },
   "outputs": [],
   "source": [
    "plot_images(train_image[:9], train_label[:9])"
   ]
  },
  {
   "cell_type": "code",
   "execution_count": 22,
   "metadata": {
    "collapsed": true
   },
   "outputs": [],
   "source": [
    "# parameters for cnn\n",
    "filter_size = 5\n",
    "num_filters1 = 16\n",
    "num_filters2 = 36\n",
    "fc_size = 128"
   ]
  },
  {
   "cell_type": "code",
   "execution_count": null,
   "metadata": {
    "collapsed": true
   },
   "outputs": [],
   "source": [
    "#define inputs\n",
    "batch_size = 100\n",
    "\n",
    "x = tf.placeholder([None, 784], name=\"images\")\n",
    "y = tf.placeholder([None, 10], name=\"real_labels\")"
   ]
  },
  {
   "cell_type": "code",
   "execution_count": null,
   "metadata": {
    "collapsed": true
   },
   "outputs": [],
   "source": [
    "# define model\n",
    "#layer1 \n",
    "#define functions\n",
    "\n",
    "def get_weights(shape):\n",
    "    return tf.get_variable(initializer=tf.truncated_normal_initializer(shape, stddev=0.5))\n",
    "\n",
    "def get_bias(shape):\n",
    "    return tf.get_variable(initializer=tf.constant(0.05, shape=shape))\n",
    "\n",
    "def conv_layer(inputs, in_channels, out_channels, filter_size, stride = 1, pooling=True):\n",
    "    input_channel = in_channels\n",
    "    output_channel = out_channels\n",
    "    filters = [filter_size, filter_size, input_channel, output_channel]\n",
    "    weights = get_weights(filters)\n",
    "    bias = get_bias()\n",
    "    return tf.nn.conv2d(inputs, filters, stride = stride)\n",
    "\n",
    "def pooling_layer(inputs, window_size, means = \"max\"):\n",
    "    if means == \"mean\":\n",
    "        return tf.nn.avg_pool(inputs, ksize=window_size)\n",
    "    else:\n",
    "        return tf.nn.max_pool(inputs, ksize=window_size)"
   ]
  }
 ],
 "metadata": {
  "kernelspec": {
   "display_name": "Python 2",
   "language": "python",
   "name": "python2"
  },
  "language_info": {
   "codemirror_mode": {
    "name": "ipython",
    "version": 2
   },
   "file_extension": ".py",
   "mimetype": "text/x-python",
   "name": "python",
   "nbconvert_exporter": "python",
   "pygments_lexer": "ipython2",
   "version": "2.7.13"
  }
 },
 "nbformat": 4,
 "nbformat_minor": 0
}
